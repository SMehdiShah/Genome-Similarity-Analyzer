{
 "cells": [
  {
   "cell_type": "markdown",
   "id": "b62f2c6f-5685-4da0-bfa5-da050ca01bd1",
   "metadata": {},
   "source": [
    "## Brief Overview"
   ]
  },
  {
   "cell_type": "code",
   "execution_count": 6,
   "id": "686e54c8-5720-4f70-ad65-25fd12b1d380",
   "metadata": {},
   "outputs": [
    {
     "data": {
      "text/plain": [
       "'\\nGenome Sequence Similarity Analysis\\n\\nPurpose\\nThis script analyzes a given genome sequence and compares all possible substrings of a specified length against a reference gene. The goal is to determine the similarity percentage between each substring and the reference gene.\\n\\nDetailed Description\\n1. Genome and Reference Gene Definition**: The script initializes a genome sequence as a string and a reference gene.\\n2. Length Calculation**: It determines the length of the reference gene.\\n3. Substring Iteration**: The script iterates through all substrings of the genome that match the length of the reference gene.\\n4. Similarity Calculation**:\\n   - It compares each substring with the reference gene character by character.\\n   - Counts the number of matching characters.\\n   - Computes the similarity percentage.\\n5. Output: The script prints the similarity percentage for each substring and a signature message.\\n\\nThis script is useful for genomic sequence analysis, particularly in identifying potential matches or conserved regions within a genome.\\n'"
      ]
     },
     "execution_count": 6,
     "metadata": {},
     "output_type": "execute_result"
    }
   ],
   "source": [
    "\"\"\"\n",
    "Genome Sequence Similarity Analysis\n",
    "\n",
    "Purpose\n",
    "This script analyzes a given genome sequence and compares all possible substrings of a specified length against a reference gene. The goal is to determine the similarity percentage between each substring and the reference gene.\n",
    "\n",
    "Detailed Description\n",
    "1. Genome and Reference Gene Definition**: The script initializes a genome sequence as a string and a reference gene.\n",
    "2. Length Calculation**: It determines the length of the reference gene.\n",
    "3. Substring Iteration**: The script iterates through all substrings of the genome that match the length of the reference gene.\n",
    "4. Similarity Calculation**:\n",
    "   - It compares each substring with the reference gene character by character.\n",
    "   - Counts the number of matching characters.\n",
    "   - Computes the similarity percentage.\n",
    "5. Output: The script prints the similarity percentage for each substring and a signature message.\n",
    "\n",
    "This script is useful for genomic sequence analysis, particularly in identifying potential matches or conserved regions within a genome.\n",
    "\"\"\""
   ]
  },
  {
   "cell_type": "markdown",
   "id": "eb021780-e955-470d-8448-1bc3db8b4005",
   "metadata": {},
   "source": [
    "## Genome Sequence"
   ]
  },
  {
   "cell_type": "code",
   "execution_count": 7,
   "id": "d9441f8a-18f1-46c2-85d5-e4cad1623b93",
   "metadata": {},
   "outputs": [],
   "source": [
    "# Define the genome sequence\n",
    "genome = \"ATGACGGGGAAAAATTTCCCCCCTGCTCA\""
   ]
  },
  {
   "cell_type": "markdown",
   "id": "76ebe524-c815-4967-8b11-1fa3a11bd102",
   "metadata": {},
   "source": [
    "## Reference Gene"
   ]
  },
  {
   "cell_type": "code",
   "execution_count": 8,
   "id": "f1c220da-88cb-40e2-8184-270fe1e603bc",
   "metadata": {},
   "outputs": [],
   "source": [
    "# Define the reference gene sequence\n",
    "ref_gene = \"ATGA\""
   ]
  },
  {
   "cell_type": "markdown",
   "id": "834550b0-0853-4254-b983-8b67b8231307",
   "metadata": {},
   "source": [
    "## Length of Reference Gene"
   ]
  },
  {
   "cell_type": "code",
   "execution_count": 9,
   "id": "c0022427-9fdb-4494-9509-2af12ab1b760",
   "metadata": {},
   "outputs": [],
   "source": [
    "# Calculate the length of the reference gene\n",
    "ref_gene_len = len(ref_gene)"
   ]
  },
  {
   "cell_type": "markdown",
   "id": "5fef4488-96f5-41e3-b530-20575e3c2166",
   "metadata": {},
   "source": [
    "## Executing Loop"
   ]
  },
  {
   "cell_type": "code",
   "execution_count": 10,
   "id": "ec429f5a-e229-49ab-942e-96cab30bae86",
   "metadata": {},
   "outputs": [
    {
     "name": "stdout",
     "output_type": "stream",
     "text": [
      "The combination: ATGA is similar to ATGA with 100.00%\n",
      "The combination: TGAC is similar to ATGA with 0.00%\n",
      "The combination: GACG is similar to ATGA with 0.00%\n",
      "The combination: ACGG is similar to ATGA with 50.00%\n",
      "The combination: CGGG is similar to ATGA with 25.00%\n",
      "The combination: GGGG is similar to ATGA with 25.00%\n",
      "The combination: GGGA is similar to ATGA with 50.00%\n",
      "The combination: GGAA is similar to ATGA with 25.00%\n",
      "The combination: GAAA is similar to ATGA with 25.00%\n",
      "The combination: AAAA is similar to ATGA with 50.00%\n",
      "The combination: AAAA is similar to ATGA with 50.00%\n",
      "The combination: AAAT is similar to ATGA with 25.00%\n",
      "The combination: AATT is similar to ATGA with 25.00%\n",
      "The combination: ATTT is similar to ATGA with 50.00%\n",
      "The combination: TTTC is similar to ATGA with 25.00%\n",
      "The combination: TTCC is similar to ATGA with 25.00%\n",
      "The combination: TCCC is similar to ATGA with 0.00%\n",
      "The combination: CCCC is similar to ATGA with 0.00%\n",
      "The combination: CCCC is similar to ATGA with 0.00%\n",
      "The combination: CCCC is similar to ATGA with 0.00%\n",
      "The combination: CCCT is similar to ATGA with 0.00%\n",
      "The combination: CCTG is similar to ATGA with 0.00%\n",
      "The combination: CTGC is similar to ATGA with 50.00%\n",
      "The combination: TGCT is similar to ATGA with 0.00%\n",
      "The combination: GCTC is similar to ATGA with 0.00%\n",
      "The combination: CTCA is similar to ATGA with 50.00%\n"
     ]
    }
   ],
   "source": [
    "# Loop through the genome to extract substrings of the same length as the reference gene\n",
    "for i in range(len(genome) - ref_gene_len + 1):\n",
    "    # Extract the substring from the genome\n",
    "    temp_string = genome[i:i + ref_gene_len]\n",
    "    \n",
    "    # Initialize a counter to keep track of matching characters\n",
    "    trig = sum(1 for j in range(ref_gene_len) if temp_string[j] == ref_gene[j])\n",
    "    \n",
    "    # Calculate the similarity percentage\n",
    "    similarity = (trig / ref_gene_len) * 100.0\n",
    "    \n",
    "    # Print the similarity result\n",
    "    print(f\"The combination: {temp_string} is similar to {ref_gene} with {similarity:.2f}%\")"
   ]
  },
  {
   "cell_type": "markdown",
   "id": "951cbcac-6ea4-4b4d-b660-2954dc8801f7",
   "metadata": {},
   "source": [
    "## Author"
   ]
  },
  {
   "cell_type": "code",
   "execution_count": 12,
   "id": "5715d7db-3875-4199-b669-4acf856fe55f",
   "metadata": {},
   "outputs": [
    {
     "name": "stdout",
     "output_type": "stream",
     "text": [
      "\n",
      "---------------------------\n",
      "By: Sayed Muhammad Mehdi Shah\n",
      "Roll No: F21BIBBB1M06006\n"
     ]
    }
   ],
   "source": [
    "# Print a signature message\n",
    "print(\"\\n---------------------------\")\n",
    "print(\"By: Sayed Muhammad Mehdi Shah\")\n",
    "print(\"Roll No: F21BIBBB1M06006\")"
   ]
  },
  {
   "cell_type": "code",
   "execution_count": null,
   "id": "869e1d9d-c36a-41d1-886e-0365940d09f0",
   "metadata": {},
   "outputs": [],
   "source": []
  }
 ],
 "metadata": {
  "kernelspec": {
   "display_name": "Python 3 (ipykernel)",
   "language": "python",
   "name": "python3"
  },
  "language_info": {
   "codemirror_mode": {
    "name": "ipython",
    "version": 3
   },
   "file_extension": ".py",
   "mimetype": "text/x-python",
   "name": "python",
   "nbconvert_exporter": "python",
   "pygments_lexer": "ipython3",
   "version": "3.12.7"
  }
 },
 "nbformat": 4,
 "nbformat_minor": 5
}
